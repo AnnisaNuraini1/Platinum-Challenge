{
 "cells": [
  {
   "cell_type": "code",
   "execution_count": 1,
   "metadata": {},
   "outputs": [],
   "source": [
    "import pickle\n",
    "import re\n",
    "import pandas as pd"
   ]
  },
  {
   "cell_type": "code",
   "execution_count": 10,
   "metadata": {},
   "outputs": [],
   "source": [
    "ori_text = '''- Berusaha terus agar menjadi orang sukses ! ! !',1,1,1,0,0,0,0,0,1,1,0,0'''"
   ]
  },
  {
   "cell_type": "code",
   "execution_count": 11,
   "metadata": {},
   "outputs": [
    {
     "name": "stderr",
     "output_type": "stream",
     "text": [
      "[nltk_data] Downloading package stopwords to\n",
      "[nltk_data]     C:\\Users\\LENOVO\\AppData\\Roaming\\nltk_data...\n",
      "[nltk_data]   Package stopwords is already up-to-date!\n"
     ]
    }
   ],
   "source": [
    "\n",
    "import pandas as pd\n",
    "import re\n",
    "import nltk\n",
    "from nltk.corpus import stopwords\n",
    "\n",
    "# Download the Indonesian stopwords if not already downloaded\n",
    "nltk.download('stopwords')\n",
    "\n",
    "# Load the mapping between informal and formal words\n",
    "df_new_kamusalay = pd.read_csv('new_kamusalay.csv', encoding='latin-1', header=None)\n",
    "df_new_kamusalay = df_new_kamusalay.rename(columns={0: 'original', 1: 'new'})\n",
    "df_new_kamusalay = df_new_kamusalay.set_index('original')['new'].to_dict()\n",
    "\n",
    "# Load the list of abusive words\n",
    "df_abusive = pd.read_csv('abusive.csv', delimiter='\\t', header=None)\n",
    "df_abusive.columns = ['ABUSIVE']\n",
    "\n",
    "# Define the Indonesian stopwords\n",
    "stop_words = set(stopwords.words('indonesian'))\n",
    "\n",
    "# Clean the text by removing stopwords\n",
    "def cleansing_stopwords(text):\n",
    "    text = ' '.join(word for word in text.split(' ') if word.lower() not in stop_words)\n",
    "    return text.lower()\n",
    "\n",
    "# Clean the text using regex\n",
    "def cleansing_byusingregex(text):   \n",
    "    text = re.sub('-', ' ', text) # Remove tanda strip\n",
    "    text = re.sub('[^0-9a-zA-Z]+', ' ', text) # Remove all symbols\n",
    "    text = re.sub('  +', ' ', text) # Remove extra spaces\n",
    "    text = re.sub('\\n', ' ', text) # Remove every '\\n'\n",
    "    text = re.sub('#', ' ', text) # Remove every retweet symbol\n",
    "    text = re.sub('user', ' ', text) # Remove every username\n",
    "    text = re.sub('USER', ' ', text) # Remove every username\n",
    "    text = re.sub('((www\\.[^\\s]+)|(https?://[^\\s]+)|(http?://[^\\s]+))', ' ', text) # Remove every URL\n",
    "    text = re.sub('[\\d\\.]+', '', text) # Remove numbers\n",
    "    text = re.sub('!', ' ', text)\n",
    "    text = re.sub(r'[\\t\\s]+', ' ', text) # Menghapus spasi berlebih\n",
    "    text = re.sub(r'[^\\w\\s]', '', text) # Menghapus tanda baca\n",
    "    return text.lower()\n",
    "\n",
    "# Change words using the mapping and remove abusive words\n",
    "def change_word(text):    \n",
    "    # Cleansing Kata Alay\n",
    "    text = ' '.join([df_new_kamusalay[word] if word in df_new_kamusalay else word for word in text.split(' ')])\n",
    "    # Cleansing Kata Abusive\n",
    "    text = ' '.join(['***' if word in df_abusive.ABUSIVE.values else word for word in text.split(' ')])\n",
    "    text = text.strip() # Remove leading and trailing spaces\n",
    "    return text.lower()\n",
    "\n",
    "# Preprocessing function\n",
    "def preprocessing(text):\n",
    "    text = cleansing_stopwords(text) # Remove stopwords\n",
    "    text = cleansing_byusingregex(text) \n",
    "    text = change_word(text) # Change words and remove abusive words\n",
    "    return text\n",
    "\n"
   ]
  },
  {
   "cell_type": "code",
   "execution_count": 12,
   "metadata": {},
   "outputs": [],
   "source": [
    "count_vect = pickle.load(open(\"feature_New5.sav\", \"rb\"))\n",
    "model_NN = pickle.load(open(\"model_NN5.sav\", \"rb\"))"
   ]
  },
  {
   "cell_type": "code",
   "execution_count": 13,
   "metadata": {},
   "outputs": [],
   "source": [
    "text = count_vect.transform([preprocessing(ori_text)])\n"
   ]
  },
  {
   "cell_type": "code",
   "execution_count": 14,
   "metadata": {},
   "outputs": [
    {
     "name": "stdout",
     "output_type": "stream",
     "text": [
      "Sentiment:\n",
      "\n",
      "negative\n"
     ]
    }
   ],
   "source": [
    "result = model_NN.predict(text)[0]\n",
    "print(\"Sentiment:\")\n",
    "print()\n",
    "print(result)"
   ]
  },
  {
   "attachments": {},
   "cell_type": "markdown",
   "metadata": {},
   "source": [
    "# Prediksi menggunakan Package"
   ]
  },
  {
   "cell_type": "code",
   "execution_count": 15,
   "metadata": {},
   "outputs": [
    {
     "name": "stdout",
     "output_type": "stream",
     "text": [
      "        _ Model Neural Network _       \n",
      "            Sentimen Analisis          \n",
      "\n",
      "\n",
      "text :  - Berusaha terus agar sukses ! ! !',1,1,1,0,0,0,0,0,1,1,0,0.\n",
      "\n",
      "text_new :  berusaha sukses\n",
      "\n",
      "Sentiment : \n",
      "positive\n",
      "\n",
      "\n"
     ]
    },
    {
     "name": "stderr",
     "output_type": "stream",
     "text": [
      "[nltk_data] Downloading package stopwords to\n",
      "[nltk_data]     C:\\Users\\LENOVO\\AppData\\Roaming\\nltk_data...\n",
      "[nltk_data]   Package stopwords is already up-to-date!\n"
     ]
    }
   ],
   "source": [
    "import pickle\n",
    "import re\n",
    "import pandas as pd\n",
    "import nltk\n",
    "from nltk.corpus import stopwords\n",
    "from preprocessingtextpackage.normalisasitext import text_preprocessing\n",
    "\n",
    "# Download the Indonesian stopwords if not already downloaded\n",
    "nltk.download('stopwords')\n",
    "\n",
    "count_vect = pickle.load(open(\"feature_New5.sav\", \"rb\"))\n",
    "model_NN = pickle.load(open(\"model_NN5.sav\", \"rb\"))\n",
    "\n",
    "text = \"- Berusaha terus agar sukses ! ! !',1,1,1,0,0,0,0,0,1,1,0,0.\"\n",
    "preprocessed_text = text_preprocessing(text)\n",
    "\n",
    "\n",
    "text_vector = count_vect.transform([preprocessed_text])\n",
    "\n",
    "result = model_NN.predict(text_vector)[0]\n",
    "\n",
    "\n",
    "print('        _ Model Neural Network _       ')\n",
    "print('            Sentimen Analisis          ')\n",
    "print('\\n')\n",
    "print(\"text : \", text)\n",
    "print(\"\\ntext_new : \", preprocessed_text)\n",
    "print(\"\\nSentiment : \")\n",
    "print(result)\n",
    "print('\\n')\n"
   ]
  },
  {
   "cell_type": "code",
   "execution_count": null,
   "metadata": {},
   "outputs": [],
   "source": []
  }
 ],
 "metadata": {
  "kernelspec": {
   "display_name": "envLEVELPLATINUM",
   "language": "python",
   "name": "python3"
  },
  "language_info": {
   "codemirror_mode": {
    "name": "ipython",
    "version": 3
   },
   "file_extension": ".py",
   "mimetype": "text/x-python",
   "name": "python",
   "nbconvert_exporter": "python",
   "pygments_lexer": "ipython3",
   "version": "3.11.1"
  },
  "orig_nbformat": 4
 },
 "nbformat": 4,
 "nbformat_minor": 2
}
