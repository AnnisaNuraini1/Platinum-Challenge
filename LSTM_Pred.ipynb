{
 "cells": [
  {
   "cell_type": "code",
   "execution_count": 1,
   "metadata": {},
   "outputs": [],
   "source": [
    "import numpy as np\n",
    "import pandas as pd\n",
    "import re\n",
    "import nltk\n",
    "from nltk.corpus import stopwords\n",
    "from tensorflow.keras.models import load_model\n",
    "from sklearn.feature_extraction.text import TfidfVectorizer\n",
    "from sklearn.linear_model import LogisticRegression\n",
    "from tensorflow.keras.preprocessing.sequence import pad_sequences\n",
    "\n",
    "\n"
   ]
  },
  {
   "cell_type": "code",
   "execution_count": 2,
   "metadata": {},
   "outputs": [
    {
     "name": "stderr",
     "output_type": "stream",
     "text": [
      "[nltk_data] Downloading package stopwords to\n",
      "[nltk_data]     C:\\Users\\LENOVO\\AppData\\Roaming\\nltk_data...\n",
      "[nltk_data]   Package stopwords is already up-to-date!\n"
     ]
    }
   ],
   "source": [
    "from tensorflow.keras.models import load_model\n",
    "from tensorflow.keras.preprocessing.sequence import pad_sequences\n",
    "from sklearn.feature_extraction.text import TfidfVectorizer\n",
    "from sklearn.linear_model import LogisticRegression\n",
    "import numpy as np\n",
    "import pandas as pd\n",
    "import re\n",
    "import nltk\n",
    "from nltk.corpus import stopwords\n",
    "\n",
    "# Download the Indonesian stopwords if not already downloaded\n",
    "nltk.download('stopwords')\n",
    "\n",
    "# Load the mapping between informal and formal words\n",
    "df_new_kamusalay = pd.read_csv('new_kamusalay.csv', encoding='latin-1', header=None)\n",
    "df_new_kamusalay = df_new_kamusalay.rename(columns={0: 'original', 1: 'new'})\n",
    "df_new_kamusalay = df_new_kamusalay.set_index('original')['new'].to_dict()\n",
    "\n",
    "# Load the list of abusive words\n",
    "df_abusive = pd.read_csv('abusive.csv', delimiter='\\t', header=None)\n",
    "df_abusive.columns = ['ABUSIVE']\n",
    "\n",
    "# Define the Indonesian stopwords\n",
    "stop_words = set(stopwords.words('indonesian'))\n"
   ]
  },
  {
   "cell_type": "code",
   "execution_count": 3,
   "metadata": {},
   "outputs": [
    {
     "name": "stderr",
     "output_type": "stream",
     "text": [
      "C:\\Users\\LENOVO\\AppData\\Local\\Temp\\ipykernel_4284\\2024862704.py:6: FutureWarning: The frame.append method is deprecated and will be removed from pandas in a future version. Use pandas.concat instead.\n",
      "  df = data_train.append(data_test, ignore_index=True)\n"
     ]
    }
   ],
   "source": [
    "# load data train\n",
    "\n",
    "data_train = pd.read_csv('train_preprocess.csv', sep='\\t',header = None, encoding='latin1')\n",
    "data_test = pd.read_csv('data.csv', sep='\\t',header = None, encoding='latin1')\n",
    "\n",
    "df = data_train.append(data_test, ignore_index=True)"
   ]
  },
  {
   "cell_type": "code",
   "execution_count": 4,
   "metadata": {},
   "outputs": [
    {
     "data": {
      "text/html": [
       "<div>\n",
       "<style scoped>\n",
       "    .dataframe tbody tr th:only-of-type {\n",
       "        vertical-align: middle;\n",
       "    }\n",
       "\n",
       "    .dataframe tbody tr th {\n",
       "        vertical-align: top;\n",
       "    }\n",
       "\n",
       "    .dataframe thead th {\n",
       "        text-align: right;\n",
       "    }\n",
       "</style>\n",
       "<table border=\"1\" class=\"dataframe\">\n",
       "  <thead>\n",
       "    <tr style=\"text-align: right;\">\n",
       "      <th></th>\n",
       "      <th>0</th>\n",
       "      <th>1</th>\n",
       "    </tr>\n",
       "  </thead>\n",
       "  <tbody>\n",
       "    <tr>\n",
       "      <th>0</th>\n",
       "      <td>warung ini dimiliki oleh pengusaha pabrik tahu...</td>\n",
       "      <td>positive</td>\n",
       "    </tr>\n",
       "    <tr>\n",
       "      <th>1</th>\n",
       "      <td>mohon ulama lurus dan k212 mmbri hujjah partai...</td>\n",
       "      <td>neutral</td>\n",
       "    </tr>\n",
       "    <tr>\n",
       "      <th>2</th>\n",
       "      <td>lokasi strategis di jalan sumatera bandung . t...</td>\n",
       "      <td>positive</td>\n",
       "    </tr>\n",
       "    <tr>\n",
       "      <th>3</th>\n",
       "      <td>betapa bahagia nya diri ini saat unboxing pake...</td>\n",
       "      <td>positive</td>\n",
       "    </tr>\n",
       "    <tr>\n",
       "      <th>4</th>\n",
       "      <td>duh . jadi mahasiswa jangan sombong dong . kas...</td>\n",
       "      <td>negative</td>\n",
       "    </tr>\n",
       "  </tbody>\n",
       "</table>\n",
       "</div>"
      ],
      "text/plain": [
       "                                                   0         1\n",
       "0  warung ini dimiliki oleh pengusaha pabrik tahu...  positive\n",
       "1  mohon ulama lurus dan k212 mmbri hujjah partai...   neutral\n",
       "2  lokasi strategis di jalan sumatera bandung . t...  positive\n",
       "3  betapa bahagia nya diri ini saat unboxing pake...  positive\n",
       "4  duh . jadi mahasiswa jangan sombong dong . kas...  negative"
      ]
     },
     "execution_count": 4,
     "metadata": {},
     "output_type": "execute_result"
    }
   ],
   "source": [
    "df.head()"
   ]
  },
  {
   "cell_type": "code",
   "execution_count": 5,
   "metadata": {},
   "outputs": [
    {
     "data": {
      "text/html": [
       "<div>\n",
       "<style scoped>\n",
       "    .dataframe tbody tr th:only-of-type {\n",
       "        vertical-align: middle;\n",
       "    }\n",
       "\n",
       "    .dataframe tbody tr th {\n",
       "        vertical-align: top;\n",
       "    }\n",
       "\n",
       "    .dataframe thead th {\n",
       "        text-align: right;\n",
       "    }\n",
       "</style>\n",
       "<table border=\"1\" class=\"dataframe\">\n",
       "  <thead>\n",
       "    <tr style=\"text-align: right;\">\n",
       "      <th></th>\n",
       "      <th>Text</th>\n",
       "      <th>Sentimen</th>\n",
       "    </tr>\n",
       "  </thead>\n",
       "  <tbody>\n",
       "    <tr>\n",
       "      <th>0</th>\n",
       "      <td>warung ini dimiliki oleh pengusaha pabrik tahu...</td>\n",
       "      <td>positive</td>\n",
       "    </tr>\n",
       "    <tr>\n",
       "      <th>1</th>\n",
       "      <td>mohon ulama lurus dan k212 mmbri hujjah partai...</td>\n",
       "      <td>neutral</td>\n",
       "    </tr>\n",
       "    <tr>\n",
       "      <th>2</th>\n",
       "      <td>lokasi strategis di jalan sumatera bandung . t...</td>\n",
       "      <td>positive</td>\n",
       "    </tr>\n",
       "    <tr>\n",
       "      <th>3</th>\n",
       "      <td>betapa bahagia nya diri ini saat unboxing pake...</td>\n",
       "      <td>positive</td>\n",
       "    </tr>\n",
       "    <tr>\n",
       "      <th>4</th>\n",
       "      <td>duh . jadi mahasiswa jangan sombong dong . kas...</td>\n",
       "      <td>negative</td>\n",
       "    </tr>\n",
       "  </tbody>\n",
       "</table>\n",
       "</div>"
      ],
      "text/plain": [
       "                                                Text  Sentimen\n",
       "0  warung ini dimiliki oleh pengusaha pabrik tahu...  positive\n",
       "1  mohon ulama lurus dan k212 mmbri hujjah partai...   neutral\n",
       "2  lokasi strategis di jalan sumatera bandung . t...  positive\n",
       "3  betapa bahagia nya diri ini saat unboxing pake...  positive\n",
       "4  duh . jadi mahasiswa jangan sombong dong . kas...  negative"
      ]
     },
     "execution_count": 5,
     "metadata": {},
     "output_type": "execute_result"
    }
   ],
   "source": [
    "df = df.rename(columns={0: 'Text', 1: 'Sentimen'})\n",
    "df.head()"
   ]
  },
  {
   "cell_type": "code",
   "execution_count": null,
   "metadata": {},
   "outputs": [],
   "source": []
  },
  {
   "attachments": {},
   "cell_type": "markdown",
   "metadata": {},
   "source": [
    "# CLeansing Data"
   ]
  },
  {
   "cell_type": "code",
   "execution_count": 6,
   "metadata": {},
   "outputs": [],
   "source": [
    "# Clean the text by removing stopwords\n",
    "def cleansing_stopwords(text):\n",
    "    text = ' '.join(word for word in text.split(' ') if word.lower() not in stop_words)\n",
    "    return text.lower()\n",
    "\n",
    "# Clean the text using regex\n",
    "def cleansing_byusingregex(text):\n",
    "    text = re.sub('-', ' ', text) # Remove tanda strip\n",
    "    text = re.sub('[^0-9a-zA-Z]+', ' ', text) # Remove all symbols\n",
    "    text = re.sub('  +', ' ', text) # Remove extra spaces\n",
    "    text = re.sub('\\n', ' ', text) # Remove every '\\n'\n",
    "    text = re.sub('#', ' ', text) # Remove every retweet symbol\n",
    "    text = re.sub('user', ' ', text) # Remove every username\n",
    "    text = re.sub('USER', ' ', text) # Remove every username\n",
    "    text = re.sub('((www\\.[^\\s]+)|(https?://[^\\s]+)|(http?://[^\\s]+))', ' ', text) # Remove every URL\n",
    "    text = re.sub('[\\d\\.]+', '', text) # Remove numbers\n",
    "    text = re.sub('!', ' ', text)\n",
    "    text = re.sub(r'[\\t\\s]+', ' ', text) # Menghapus spasi berlebih\n",
    "    text = re.sub(r'[^\\w\\s]', '', text) # Menghapus tanda baca\n",
    "    return text.lower()\n",
    "\n",
    "# Change words using the mapping and remove abusive words\n",
    "def change_word(text):\n",
    "    # Cleansing Kata Alay\n",
    "    text = ' '.join([df_new_kamusalay[word] if word in df_new_kamusalay else word for word in text.split(' ')])\n",
    "    # Cleansing Kata Abusive\n",
    "    text = ' '.join(['***' if word in df_abusive.ABUSIVE.values else word for word in text.split(' ')])\n",
    "    text = text.strip() # Remove leading and trailing spaces\n",
    "    return text.lower()\n",
    "\n",
    "# Preprocessing function\n",
    "def preprocessing(text):\n",
    "    text = cleansing_stopwords(text) # Remove stopwords\n",
    "    text = cleansing_byusingregex(text)\n",
    "    text = change_word(text) # Change words and remove abusive words\n",
    "    return text\n",
    "\n",
    "def pred_sentiment(text):\n",
    "    cleaned_text = preprocessing(text) # Preprocess the input text\n",
    "    text_sequence = tokenizer.transform([cleaned_text]) # Transform the preprocessed text\n",
    "    padded_sequence = pad_sequences(text_sequence.toarray()) # Convert to dense matrix and pad the transformed sequence\n",
    "    predictions = loaded_model.predict(padded_sequence, batch_size=10)[0] # Make predictions\n",
    "    return predictions\n",
    "\n",
    "def pred(predictions):\n",
    "    if predictions.argmax() == 0:\n",
    "        print('negative')\n",
    "    elif predictions.argmax() == 1:\n",
    "        print('neutral')\n",
    "    elif predictions.argmax() == 2:\n",
    "        print('positive')\n"
   ]
  },
  {
   "cell_type": "code",
   "execution_count": 7,
   "metadata": {},
   "outputs": [
    {
     "data": {
      "text/html": [
       "<style>#sk-container-id-1 {color: black;background-color: white;}#sk-container-id-1 pre{padding: 0;}#sk-container-id-1 div.sk-toggleable {background-color: white;}#sk-container-id-1 label.sk-toggleable__label {cursor: pointer;display: block;width: 100%;margin-bottom: 0;padding: 0.3em;box-sizing: border-box;text-align: center;}#sk-container-id-1 label.sk-toggleable__label-arrow:before {content: \"▸\";float: left;margin-right: 0.25em;color: #696969;}#sk-container-id-1 label.sk-toggleable__label-arrow:hover:before {color: black;}#sk-container-id-1 div.sk-estimator:hover label.sk-toggleable__label-arrow:before {color: black;}#sk-container-id-1 div.sk-toggleable__content {max-height: 0;max-width: 0;overflow: hidden;text-align: left;background-color: #f0f8ff;}#sk-container-id-1 div.sk-toggleable__content pre {margin: 0.2em;color: black;border-radius: 0.25em;background-color: #f0f8ff;}#sk-container-id-1 input.sk-toggleable__control:checked~div.sk-toggleable__content {max-height: 200px;max-width: 100%;overflow: auto;}#sk-container-id-1 input.sk-toggleable__control:checked~label.sk-toggleable__label-arrow:before {content: \"▾\";}#sk-container-id-1 div.sk-estimator input.sk-toggleable__control:checked~label.sk-toggleable__label {background-color: #d4ebff;}#sk-container-id-1 div.sk-label input.sk-toggleable__control:checked~label.sk-toggleable__label {background-color: #d4ebff;}#sk-container-id-1 input.sk-hidden--visually {border: 0;clip: rect(1px 1px 1px 1px);clip: rect(1px, 1px, 1px, 1px);height: 1px;margin: -1px;overflow: hidden;padding: 0;position: absolute;width: 1px;}#sk-container-id-1 div.sk-estimator {font-family: monospace;background-color: #f0f8ff;border: 1px dotted black;border-radius: 0.25em;box-sizing: border-box;margin-bottom: 0.5em;}#sk-container-id-1 div.sk-estimator:hover {background-color: #d4ebff;}#sk-container-id-1 div.sk-parallel-item::after {content: \"\";width: 100%;border-bottom: 1px solid gray;flex-grow: 1;}#sk-container-id-1 div.sk-label:hover label.sk-toggleable__label {background-color: #d4ebff;}#sk-container-id-1 div.sk-serial::before {content: \"\";position: absolute;border-left: 1px solid gray;box-sizing: border-box;top: 0;bottom: 0;left: 50%;z-index: 0;}#sk-container-id-1 div.sk-serial {display: flex;flex-direction: column;align-items: center;background-color: white;padding-right: 0.2em;padding-left: 0.2em;position: relative;}#sk-container-id-1 div.sk-item {position: relative;z-index: 1;}#sk-container-id-1 div.sk-parallel {display: flex;align-items: stretch;justify-content: center;background-color: white;position: relative;}#sk-container-id-1 div.sk-item::before, #sk-container-id-1 div.sk-parallel-item::before {content: \"\";position: absolute;border-left: 1px solid gray;box-sizing: border-box;top: 0;bottom: 0;left: 50%;z-index: -1;}#sk-container-id-1 div.sk-parallel-item {display: flex;flex-direction: column;z-index: 1;position: relative;background-color: white;}#sk-container-id-1 div.sk-parallel-item:first-child::after {align-self: flex-end;width: 50%;}#sk-container-id-1 div.sk-parallel-item:last-child::after {align-self: flex-start;width: 50%;}#sk-container-id-1 div.sk-parallel-item:only-child::after {width: 0;}#sk-container-id-1 div.sk-dashed-wrapped {border: 1px dashed gray;margin: 0 0.4em 0.5em 0.4em;box-sizing: border-box;padding-bottom: 0.4em;background-color: white;}#sk-container-id-1 div.sk-label label {font-family: monospace;font-weight: bold;display: inline-block;line-height: 1.2em;}#sk-container-id-1 div.sk-label-container {text-align: center;}#sk-container-id-1 div.sk-container {/* jupyter's `normalize.less` sets `[hidden] { display: none; }` but bootstrap.min.css set `[hidden] { display: none !important; }` so we also need the `!important` here to be able to override the default hidden behavior on the sphinx rendered scikit-learn.org. See: https://github.com/scikit-learn/scikit-learn/issues/21755 */display: inline-block !important;position: relative;}#sk-container-id-1 div.sk-text-repr-fallback {display: none;}</style><div id=\"sk-container-id-1\" class=\"sk-top-container\"><div class=\"sk-text-repr-fallback\"><pre>TfidfVectorizer()</pre><b>In a Jupyter environment, please rerun this cell to show the HTML representation or trust the notebook. <br />On GitHub, the HTML representation is unable to render, please try loading this page with nbviewer.org.</b></div><div class=\"sk-container\" hidden><div class=\"sk-item\"><div class=\"sk-estimator sk-toggleable\"><input class=\"sk-toggleable__control sk-hidden--visually\" id=\"sk-estimator-id-1\" type=\"checkbox\" checked><label for=\"sk-estimator-id-1\" class=\"sk-toggleable__label sk-toggleable__label-arrow\">TfidfVectorizer</label><div class=\"sk-toggleable__content\"><pre>TfidfVectorizer()</pre></div></div></div></div></div>"
      ],
      "text/plain": [
       "TfidfVectorizer()"
      ]
     },
     "execution_count": 7,
     "metadata": {},
     "output_type": "execute_result"
    }
   ],
   "source": [
    "# Load the pre-trained model\n",
    "loaded_model = load_model('lstm4.h5')\n",
    "\n",
    "# Inisialisasi tokenizer\n",
    "tokenizer = TfidfVectorizer()\n",
    "\n",
    "# Load data from CSV file\n",
    "data = pd.read_csv('data.csv', encoding='latin1')\n",
    "\n",
    "# Extract the text data from the CSV file\n",
    "data_text = data['Tweet'].tolist()\n",
    "\n",
    "# Fitting tokenizer\n",
    "tokenizer.fit(data_text)\n"
   ]
  },
  {
   "cell_type": "code",
   "execution_count": 8,
   "metadata": {},
   "outputs": [
    {
     "name": "stdout",
     "output_type": "stream",
     "text": [
      "1/1 [==============================] - 3s 3s/step\n",
      "=============================\n",
      "         Sentimen Analisis\n",
      "=============================\n",
      "Tweet: - Berusaha terus agar pintar ! ! !',1,1,1,0,0,0,0,0,1,1,0,0\n",
      "Tweet Preprocessing: berusaha pintar\n",
      "-----------------------------\n",
      "Sentimen :\n",
      "negative\n",
      "=============================\n"
     ]
    }
   ],
   "source": [
    "Tweet = \"- Berusaha terus agar pintar ! ! !',1,1,1,0,0,0,0,0,1,1,0,0\"\n",
    "Sentimen = pred_sentiment(Tweet)\n",
    "\n",
    "print('=============================')\n",
    "print('         Sentimen Analisis')\n",
    "print('=============================')\n",
    "print('Tweet: {}'.format(Tweet))\n",
    "print('Tweet Preprocessing: {}'.format(preprocessing(Tweet)))\n",
    "print('-----------------------------')\n",
    "print('Sentimen :' )\n",
    "pred(Sentimen)\n",
    "print('=============================')"
   ]
  },
  {
   "attachments": {},
   "cell_type": "markdown",
   "metadata": {},
   "source": [
    "# Predict menggunakan Package yang di buat"
   ]
  },
  {
   "cell_type": "code",
   "execution_count": 11,
   "metadata": {},
   "outputs": [
    {
     "name": "stdout",
     "output_type": "stream",
     "text": [
      "1/1 [==============================] - 2s 2s/step\n",
      "        _ Model LSTM _       \n",
      "       Sentimen Analisis     \n",
      "\n",
      "\n",
      "Tweet: - Berusaha terus agar pintar ! ! !',1,1,1,0,0,0,0,0,1,1,0,0.\n",
      "Tweet Preprocessing: berusaha pintar\n",
      "Sentimen :\n",
      "negative\n",
      "=============================\n"
     ]
    }
   ],
   "source": [
    "from preprocessingtextpackage.normalisasitext import text_preprocessing \n",
    "from tensorflow.keras.models import load_model\n",
    "from tensorflow.keras.preprocessing.sequence import pad_sequences\n",
    "from sklearn.feature_extraction.text import TfidfVectorizer\n",
    "import numpy as np\n",
    "import pandas as pd\n",
    "\n",
    "# Load the pre-trained model\n",
    "loaded_model = load_model('lstm4.h5')\n",
    "\n",
    "# Inisialisasi tokenizer\n",
    "tokenizer = TfidfVectorizer()\n",
    "\n",
    "# Load data from CSV file\n",
    "data = pd.read_csv('data.csv', encoding='latin1')\n",
    "\n",
    "# Extract the text data from the CSV file\n",
    "data_text = data['Tweet'].tolist()\n",
    "\n",
    "# Fitting tokenizer\n",
    "tokenizer.fit(data_text)\n",
    "\n",
    "text = \"- Berusaha terus agar pintar ! ! !',1,1,1,0,0,0,0,0,1,1,0,0.\"\n",
    "preprocessed_text = text_preprocessing(text)\n",
    "Sentimen = pred_sentiment(text)\n",
    "\n",
    "print('        _ Model LSTM _       ')\n",
    "print('       Sentimen Analisis     ')\n",
    "print('\\n')\n",
    "print('Tweet: {}'.format(text))\n",
    "print('Tweet Preprocessing: {}'.format(preprocessed_text))\n",
    "print('Sentimen :' )\n",
    "pred(Sentimen)\n",
    "print('=============================')\n"
   ]
  }
 ],
 "metadata": {
  "kernelspec": {
   "display_name": "envLEVELPLATINUM",
   "language": "python",
   "name": "python3"
  },
  "language_info": {
   "codemirror_mode": {
    "name": "ipython",
    "version": 3
   },
   "file_extension": ".py",
   "mimetype": "text/x-python",
   "name": "python",
   "nbconvert_exporter": "python",
   "pygments_lexer": "ipython3",
   "version": "3.11.1"
  },
  "orig_nbformat": 4
 },
 "nbformat": 4,
 "nbformat_minor": 2
}
